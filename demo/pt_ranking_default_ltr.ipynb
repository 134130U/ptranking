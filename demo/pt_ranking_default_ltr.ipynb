{
 "cells": [
  {
   "cell_type": "markdown",
   "metadata": {},
   "source": [
    "## Performing learning-to-rank with default setting"
   ]
  },
  {
   "cell_type": "code",
   "execution_count": 1,
   "metadata": {
    "pycharm": {
     "name": "#%%\n"
    }
   },
   "outputs": [],
   "source": [
    "from org.archive.ltr_adhoc.eval.ltr import LTREvaluator\n",
    "from org.archive.eval.parameter import DataSetting, EvalSetting, ModelParameter, ScoringFunctionParameter\n",
    "\n",
    "''' dataset identifier '''\n",
    "data_id = 'MQ2008_Super'\n",
    "\n",
    "''' directory of the corresponding dataset '''\n",
    "#dir_data = '/Users/dryuhaitao/WorkBench/Corpus/LETOR4.0/MQ2007/'\n",
    "dir_data = '/Users/solar/WorkBench/Datasets/L2R/LETOR4.0/MQ2008/'\n",
    "\n",
    "''' output directory for results '''\n",
    "#dir_output='/Users/dryuhaitao/WorkBench/output/'\n",
    "dir_output = '/Users/solar/WorkBench/CodeBench/PyCharmProject/Project_output/Out_L2R/'\n",
    "\n",
    "''' the main class for conducting training & testing '''\n",
    "ltr_evaluator = LTREvaluator()\n",
    "\n",
    "debug = True # in a debug mode, we just check whether the model can operate\n",
    "\n",
    "''' using the default setting for loading dataset & using the default setting for evaluation '''\n",
    "ltr_evaluator.set_eval_setting(debug=debug, dir_output=dir_output)\n",
    "ltr_evaluator.set_data_setting(debug=debug, data_id=data_id, dir_data=dir_data)\n",
    "data_dict = ltr_evaluator.get_default_data_setting()\n",
    "eval_dict = ltr_evaluator.get_default_eval_setting()"
   ]
  },
  {
   "cell_type": "markdown",
   "metadata": {},
   "source": [
    "### Prepare data"
   ]
  },
  {
   "cell_type": "code",
   "execution_count": 2,
   "metadata": {
    "pycharm": {
     "name": "#%%\n"
    }
   },
   "outputs": [
    {
     "name": "stdout",
     "output_type": "stream",
     "text": [
      "Fold- 1\n",
      "loading buffered file ...\n",
      "loading buffered file ...\n"
     ]
    }
   ],
   "source": [
    "''' load the dataset '''\n",
    "train_data, test_data, vali_data = ltr_evaluator.load_data(eval_dict=eval_dict, data_dict=data_dict, fold_k=1)"
   ]
  },
  {
   "cell_type": "markdown",
   "metadata": {},
   "source": [
    "### Configuration of the neural scoring function"
   ]
  },
  {
   "cell_type": "code",
   "execution_count": 3,
   "metadata": {
    "pycharm": {
     "name": "#%%\n"
    }
   },
   "outputs": [],
   "source": [
    "''' using the default setting for constructing a neural scoring function '''\n",
    "ltr_evaluator.set_scoring_function_setting(debug=debug, data_dict=data_dict)\n",
    "sf_para_dict = ltr_evaluator.get_default_scoring_function_setting()"
   ]
  },
  {
   "cell_type": "markdown",
   "metadata": {},
   "source": [
    "### The specified model with default parameters\n"
   ]
  },
  {
   "cell_type": "code",
   "execution_count": 4,
   "metadata": {
    "pycharm": {
     "name": "#%%\n"
    }
   },
   "outputs": [],
   "source": [
    "''' the parameter setting for a model '''\n",
    "model_id = 'RankNet'\n",
    "ltr_evaluator.set_model_setting(debug=debug, model_id=model_id)\n",
    "model_para_dict = ltr_evaluator.get_default_model_setting()\n",
    "\n",
    "''' basic check before loading the ranker '''\n",
    "ltr_evaluator.setup_eval(data_dict=data_dict, eval_dict=eval_dict, sf_para_dict=sf_para_dict,\n",
    "                         model_para_dict=model_para_dict)\n",
    "\n",
    "''' initialize the ranker '''\n",
    "ranknet   = ltr_evaluator.load_ranker(sf_para_dict=sf_para_dict, model_para_dict=model_para_dict)"
   ]
  },
  {
   "cell_type": "markdown",
   "metadata": {},
   "source": [
    "### Plot functionality"
   ]
  },
  {
   "cell_type": "code",
   "execution_count": 5,
   "metadata": {
    "pycharm": {
     "name": "#%%\n"
    }
   },
   "outputs": [],
   "source": [
    "import numpy as np\n",
    "import matplotlib.pyplot as plt\n",
    "\n",
    "def show_var(list_vals, lbl=None):\n",
    "    X = np.arange(start=1, stop=len(list_vals)+1).tolist()\n",
    "    if lbl is not None:\n",
    "        plt.plot(X, list_vals, label=lbl)\n",
    "    else:\n",
    "        plt.plot(X, list_vals)\n"
   ]
  },
  {
   "cell_type": "markdown",
   "metadata": {},
   "source": [
    "### Train the learning-to-rank model and plot the performance"
   ]
  },
  {
   "cell_type": "code",
   "execution_count": 6,
   "metadata": {
    "pycharm": {
     "name": "#%%\n"
    }
   },
   "outputs": [
    {
     "data": {
      "text/plain": [
       "Text(0.5, 1.0, 'RankNet')"
      ]
     },
     "execution_count": 6,
     "metadata": {},
     "output_type": "execute_result"
    },
    {
     "data": {
      "image/png": "[encoded data removed]",
      "text/plain": [
       "<Figure size 432x288 with 1 Axes>"
      ]
     },
     "metadata": {
      "needs_background": "light"
     },
     "output_type": "display_data"
    }
   ],
   "source": [
    "ranknet_losses, ranknet_train_ndcgs, ranknet_test_ndcgs = ltr_evaluator.naive_train(ranker=ranknet, eval_dict=eval_dict, train_data=train_data, test_data=test_data)\n",
    "\n",
    "show_var(ranknet_losses, lbl='Training loss') # show the variation of loss\n",
    "plt.legend()\n",
    "plt.title('RankNet')\n"
   ]
  }
 ],
 "metadata": {
  "kernelspec": {
   "display_name": "PyCharm (ptl2r)",
   "language": "python",
   "name": "pycharm-a255094d"
  },
  "language_info": {
   "codemirror_mode": {
    "name": "ipython",
    "version": 3
   },
   "file_extension": ".py",
   "mimetype": "text/x-python",
   "name": "python",
   "nbconvert_exporter": "python",
   "pygments_lexer": "ipython3",
   "version": "3.7.6"
  }
 },
 "nbformat": 4,
 "nbformat_minor": 1
}
