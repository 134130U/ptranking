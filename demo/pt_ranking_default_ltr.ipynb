{
 "cells": [
  {
   "cell_type": "markdown",
   "metadata": {},
   "source": [
    "## Performing learning-to-rank with default setting\n"
   ]
  },
  {
   "cell_type": "markdown",
   "metadata": {},
   "source": [
    "### Declare the evaluation object"
   ]
  },
  {
   "cell_type": "code",
   "execution_count": 1,
   "metadata": {
    "pycharm": {
     "name": "#%%\n"
    }
   },
   "outputs": [],
   "source": [
    "from org.archive.ltr_adhoc.eval.l2r import L2REvaluator\n",
    "\n",
    "# Required input and output directories\n",
    "data_id = 'MQ2007_Super'\n",
    "dir_data = '/Users/dryuhaitao/WorkBench/Corpus/LETOR4.0/MQ2007/'\n",
    "dir_output='/Users/dryuhaitao/WorkBench/output/'\n",
    "\n",
    "evaluator = L2REvaluator()\n",
    "\n",
    "data_dict, eval_dict = evaluator.get_default_dicts(data_id=data_id, dir_data=dir_data, dir_output=dir_output)"
   ]
  },
  {
   "cell_type": "markdown",
   "metadata": {},
   "source": [
    "### Prepare data"
   ]
  },
  {
   "cell_type": "code",
   "execution_count": 2,
   "metadata": {
    "pycharm": {
     "name": "#%%\n"
    }
   },
   "outputs": [
    {
     "name": "stdout",
     "output_type": "stream",
     "text": [
      "Fold- 1\n"
     ]
    }
   ],
   "source": [
    "train_data, test_data, vali_data = evaluator.load_data(eval_dict=eval_dict, data_dict=data_dict, fold_k=1)"
   ]
  },
  {
   "cell_type": "markdown",
   "metadata": {},
   "source": [
    "### Configuration of the neural scoring function"
   ]
  },
  {
   "cell_type": "code",
   "execution_count": 3,
   "metadata": {
    "pycharm": {
     "name": "#%%\n"
    }
   },
   "outputs": [],
   "source": [
    "sf_para_dict = evaluator.get_default_sf_para_dict(data_dict=data_dict, eval_dict=eval_dict)"
   ]
  },
  {
   "cell_type": "markdown",
   "metadata": {},
   "source": [
    "### The specified model with default parameters\n"
   ]
  },
  {
   "cell_type": "code",
   "execution_count": 4,
   "metadata": {
    "pycharm": {
     "name": "#%%\n"
    }
   },
   "outputs": [],
   "source": [
    "model_id = 'RankNet'\n",
    "model_para_dict = evaluator.get_default_para_dict(model_id=model_id)\n",
    "# required basic check before loading the ranker\n",
    "evaluator.setup_eval(data_dict=data_dict, eval_dict=eval_dict, sf_para_dict=sf_para_dict, model_para_dict=model_para_dict)\n",
    "\n",
    "ranker   = evaluator.load_ranker(data_dict=data_dict, eval_dict=eval_dict, model_para_dict=model_para_dict, sf_para_dict=sf_para_dict)"
   ]
  },
  {
   "cell_type": "markdown",
   "metadata": {},
   "source": [
    "### Plot functionality"
   ]
  },
  {
   "cell_type": "code",
   "execution_count": 5,
   "metadata": {
    "pycharm": {
     "name": "#%%\n"
    }
   },
   "outputs": [],
   "source": [
    "import numpy as np\n",
    "import matplotlib.pyplot as plt\n",
    "\n",
    "def show_var(list_vals, lbl=None):\n",
    "    X = np.arange(start=1, stop=len(list_vals)+1).tolist()\n",
    "    if lbl is not None:\n",
    "        plt.plot(X, list_vals, label=lbl)\n",
    "    else:\n",
    "        plt.plot(X, list_vals)\n"
   ]
  },
  {
   "cell_type": "markdown",
   "metadata": {},
   "source": [
    "### Train the learning-to-rank model and plot the performance"
   ]
  },
  {
   "cell_type": "code",
   "execution_count": 6,
   "metadata": {
    "pycharm": {
     "name": "#%%\n"
    }
   },
   "outputs": [
    {
     "data": {
      "text/plain": "Text(0.5, 1.0, 'RankNet')"
     },
     "execution_count": 6,
     "metadata": {},
     "output_type": "execute_result"
    },
    {
     "data": {
      "text/plain": "<Figure size 432x288 with 1 Axes>",
      "image/png": "[encoded data removed]"
     },
     "metadata": {
      "needs_background": "light"
     },
     "output_type": "display_data"
    }
   ],
   "source": [
    "ranknet_losses, ranknet_train_ndcgs, ranknet_test_ndcgs = evaluator.basic_train(ranker=ranker, eval_dict=eval_dict, train_data=train_data, test_data=test_data)\n",
    "\n",
    "show_var(ranknet_losses, lbl='Training loss') # show the variation of loss\n",
    "plt.legend()\n",
    "plt.title('RankNet')\n"
   ]
  }
 ],
 "metadata": {
  "kernelspec": {
   "display_name": "PyCharm (ptl2r)",
   "language": "python",
   "name": "pycharm-a6d7dfad"
  },
  "language_info": {
   "codemirror_mode": {
    "name": "ipython",
    "version": 3
   },
   "file_extension": ".py",
   "mimetype": "text/x-python",
   "name": "python",
   "nbconvert_exporter": "python",
   "pygments_lexer": "ipython3",
   "version": "3.7.3"
  }
 },
 "nbformat": 4,
 "nbformat_minor": 1
}