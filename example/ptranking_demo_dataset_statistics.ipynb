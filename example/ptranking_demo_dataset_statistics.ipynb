{
 "cells": [
  {
   "cell_type": "markdown",
   "metadata": {
    "pycharm": {
     "name": "#%% md\n"
    }
   },
   "source": [
    "## Check the statistics of a specified dataset with default setting"
   ]
  },
  {
   "cell_type": "code",
   "execution_count": 3,
   "metadata": {
    "pycharm": {
     "name": "#%%\n"
    }
   },
   "outputs": [
    {
     "name": "stdout",
     "output_type": "stream",
     "text": [
      "Dataset:\t MQ2008_Super\n",
      "Total queries:\t 784\n",
      "\tTrain: 471 Vali: 157 Test: 156\n",
      "Total docs:\t 15211\n",
      "min, max documents per query 5 121\n",
      "total relevant documents 2932\n",
      "avg rele documents per query 3.739795918367347\n",
      "avg documents per query 19.401785714285715\n"
     ]
    }
   ],
   "source": [
    "from test.data.test_data_utils import check_dataset_statistics\n",
    "\n",
    "\n",
    "\"\"\" An example script \"\"\"\n",
    "\n",
    "''' The dataset identifier '''\n",
    "data_id  = 'MQ2007_Super'\n",
    "\n",
    "\n",
    "''' The directory of the above dataset '''\n",
    "#dir_data = '/Users/dryuhaitao/WorkBench/Corpus/LETOR4.0/MQ2007/'\n",
    "dir_data = '/home/dl-box/WorkBench/Datasets/L2R/LETOR4.0/MQ2007/'\n",
    "\n",
    "''' Whether buffer the loaded dataset as numpy.tensor & PyTorch.tensor '''\n",
    "buffer   = False\n",
    "\n",
    "check_dataset_statistics(data_id=data_id, dir_data=dir_data, buffer=buffer)\n",
    "\n"
   ]
  },
  {
   "cell_type": "code",
   "execution_count": null,
   "metadata": {},
   "outputs": [],
   "source": []
  }
 ],
 "metadata": {
  "kernelspec": {
   "display_name": "PyCharm (ptl2r)",
   "language": "python",
   "name": "pycharm-a255094d"
  },
  "language_info": {
   "codemirror_mode": {
    "name": "ipython",
    "version": 3
   },
   "file_extension": ".py",
   "mimetype": "text/x-python",
   "name": "python",
   "nbconvert_exporter": "python",
   "pygments_lexer": "ipython3",
   "version": "3.7.6"
  }
 },
 "nbformat": 4,
 "nbformat_minor": 1
}