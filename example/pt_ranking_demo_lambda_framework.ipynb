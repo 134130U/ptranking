{
 "cells": [
  {
   "cell_type": "markdown",
   "metadata": {},
   "source": [
    "## Towards A Better Understanding of Typical Learning-to-rank Methods Based on PT-Ranking, Such as RankNet & LambdaRank"
   ]
  },
  {
   "cell_type": "markdown",
   "metadata": {},
   "source": [
    "## 1 Sigmoid Function & Logistic Function\n",
    "\n",
    "A sigmoid function **having a characteristic of S-shaped curve** is defined as follows,\n",
    "\n",
    "$$ f(x)=\\frac{1}{1+\\exp(-x)} $$\n",
    "\n",
    "A logistic function is defined as,\n",
    "\n",
    "$$ f(x)=\\frac{L}{1+\\exp(-k(x-x_0))} $$\n",
    "\n",
    "Commonly, with parameters ($k=1$, $x_0=0$, $L=1$), the standard logistic function is just a sigmoid function."
   ]
  },
  {
   "cell_type": "code",
   "execution_count": 1,
   "metadata": {
    "pycharm": {
     "name": "#%%\n"
    }
   },
   "outputs": [
    {
     "data": {
      "text/plain": [
       "Text(0, 0.5, 'f(x)')"
      ]
     },
     "execution_count": 1,
     "metadata": {},
     "output_type": "execute_result"
    }
   ],
   "source": [
    "import matplotlib.pyplot as plt\n",
    "import numpy as np\n",
    "\n",
    "x = np.arange(-10, 10, 0.1)\n",
    "f = 1. / (1. + np.exp(-x))\n",
    "\n",
    "plt.plot(x, f)\n",
    "plt.xlabel('x')\n",
    "plt.ylabel('f(x)')"
   ]
  },
  {
   "cell_type": "markdown",
   "metadata": {},
   "source": [
    "## 2 RankNet"
   ]
  },
  {
   "cell_type": "markdown",
   "metadata": {},
   "source": [
    "Given two documents $d_i$ and $d_j$ that are represented as feature vectors $\\mathbf{x}_i$ and $\\mathbf{x}_j$, let $f$ be the ranking function, the ranking scores will be $s_i=f(\\mathbf{x}_i)$ and $s_j=f(\\mathbf{x}_j)$, the probability $p_{ij}$ indicating $d_i$ should be ranked higher than $d_j$ is given as\n",
    "\n",
    "$$ p_{ij}=\\frac{1}{1+\\exp(-(s_i-s_j))} $$"
   ]
  },
  {
   "cell_type": "markdown",
   "metadata": {},
   "source": [
    "### 2.1 Loss of pairwise classification\n",
    "\n",
    "Let $\\bar{p_{ij}}$ be the known probability that $d_i$ should be ranked higher than $d_j$, we then apply the cross entropy cost function that penalizes the deviation of the model output probabilities from the desired probabilities,\n",
    "\n",
    "$$ C=-\\bar{p_{ij}} \\log(p_{ij}) - (1-\\bar{p_{ij}})\\log(1-p_{ij}) $$\n",
    "\n",
    "For a given query, let $S_{ij}\\in \\{-1, 0, 1\\}$ be defined to be 1 if doc-i has been labeled to be more relevant than doc-j, −1 if doc-i has been labeled to be less relevant than doc-j, and 0 if they have the same label. In particular, we assume that the desired ranking is deterministically known, so that $\\bar{p_{ij}}=\\frac{1}{2}(1+S_{ij})$. Combining the above two equations gives\n",
    "\n",
    "$$ C=\\frac{1}{2}(1-S_{ij})(s_i-s_j) + \\log(1+\\exp(-(s_i-s_j))) $$\n",
    "\n",
    "The cost is comfortingly symmetric (swapping $i$ and $j$ and changing the sign of $S_{ij}$ should leave the cost invariant): for $S_{ij}=1$,\n",
    "\n",
    "$$ C=\\log(1+\\exp(-(s_i-s_j))) $$\n",
    "\n",
    "while for $S_{ij}=-1$,\n",
    "\n",
    "$$ C=\\log(1+\\exp(-(s_j-s_i))) $$\n",
    "\n",
    "Note that when $s_i = s_j$, the cost is $\\log2$, so the model incorporates a margin (that is, documents with different labels, but to which the model assigns the same scores, are still pushed away from each other in the ranking). Also, asymptotically, the cost becomes linear (if the scores give the wrong ranking), or zero (if they give the correct ranking).\n",
    "\n",
    "For the gradient, essentially we have\n",
    "\n",
    "$$\\frac{\\partial C}{\\partial s_{i}}=\\frac{1}{2}(1-S_{ij})-\\frac{1}{1+e^{(s_{i}-s_{j})}}=-\\frac{\\partial C}{\\partial s_{j}}$$\n",
    "\n",
    "Furthermore,\n",
    "\n",
    "$\\frac{\\partial^{2} C}{\\partial s_{i}^{2}}=\\sigma (s_{j}-s_{i})(1-\\sigma (s_{j}-s_{i}))\n",
    "=\\frac{1}{1+e^{(s_{i}-s_{j})}} (1-\\frac{1}{1+e^{(s_{i}-s_{j})}})=-\\frac{\\partial^{2} C}{\\partial s_{j}^{2}}$"
   ]
  },
  {
   "cell_type": "markdown",
   "metadata": {},
   "source": [
    "## 3 LambdaRank"
   ]
  },
  {
   "cell_type": "markdown",
   "metadata": {},
   "source": [
    "The key observation of LambdaRank is that: in order to train a model, we don't need the costs themselves, and we only need the gradients of the costs w.r.t. the model scores.\n",
    "\n",
    "We denote the gradient $\\frac{\\partial C}{\\partial s_{i}}$ as $\\lambda_{ij}$, namely\n",
    "\n",
    "$\n",
    "\\lambda_{ij}=\\frac{\\partial C(s_{i}-s_{j})}{\\partial s_{i}}=\\frac{1}{2}(1-S_{ij})-\\frac{1}{1+e^{(s_{i}-s_{j})}}\n",
    "$\n",
    "\n",
    "LambdaRank mainly differs from RankNet in that: modifying the above gradient by simply multiplying by the size of change in a particular metric $|\\Delta nDCG|$ (say, in term of $nDCG$) given by swapping the rank positions of $d_i$ and $d_j$ while leaving the rank positions of other documents unchanged."
   ]
  },
  {
   "cell_type": "markdown",
   "metadata": {},
   "source": [
    "## 4 An Empirical Study of RankNet and LambdaRank Based on PT-Ranking"
   ]
  },
  {
   "cell_type": "markdown",
   "metadata": {},
   "source": [
    "### 4.1 Declare a plot function for visualization"
   ]
  },
  {
   "cell_type": "code",
   "execution_count": 2,
   "metadata": {
    "pycharm": {
     "name": "#%%\n"
    }
   },
   "outputs": [],
   "source": [
    "import numpy as np\n",
    "import matplotlib.pyplot as plt\n",
    "\n",
    "def show_var(list_vals, lbl=None):\n",
    "    X = np.arange(start=1, stop=len(list_vals)+1).tolist()\n",
    "    if lbl is not None:\n",
    "        plt.plot(X, list_vals, label=lbl)\n",
    "    else:\n",
    "        plt.plot(X, list_vals)"
   ]
  },
  {
   "cell_type": "markdown",
   "metadata": {
    "pycharm": {
     "name": "#%% md\n"
    }
   },
   "source": [
    "### 4.2 Specify dataset, output directory, initialize the evaluation object, etc.\n"
   ]
  },
  {
   "cell_type": "code",
   "execution_count": 3,
   "metadata": {
    "pycharm": {
     "name": "#%%\n"
    }
   },
   "outputs": [],
   "source": [
    "from org.archive.ltr_adhoc.eval.ltr import LTREvaluator\n",
    "from org.archive.eval.parameter import DataSetting, EvalSetting, ModelParameter, ScoringFunctionParameter\n",
    "\n",
    "''' dataset identifier '''\n",
    "data_id = 'MQ2008_Super'\n",
    "\n",
    "''' directory of the corresponding dataset '''\n",
    "dir_data = '/Users/dryuhaitao/WorkBench/Corpus/LETOR4.0/MQ2007/'\n",
    "#dir_data = '/Users/solar/WorkBench/Datasets/L2R/LETOR4.0/MQ2008/'\n",
    "\n",
    "''' output directory for results '''\n",
    "dir_output='/Users/dryuhaitao/WorkBench/output/'\n",
    "#dir_output = '/Users/solar/WorkBench/CodeBench/PyCharmProject/Project_output/Out_L2R/'\n",
    "\n",
    "''' the main class for conducting training & testing '''\n",
    "ltr_evaluator = LTREvaluator()\n",
    "\n",
    "debug = True # in a debug mode, we just check whether the model can operate\n",
    "\n",
    "''' using the default setting for loading dataset & using the default setting for evaluation '''\n",
    "ltr_evaluator.set_eval_setting(debug=debug, dir_output=dir_output)\n",
    "ltr_evaluator.set_data_setting(debug=debug, data_id=data_id, dir_data=dir_data)\n",
    "data_dict = ltr_evaluator.get_default_data_setting()\n",
    "eval_dict = ltr_evaluator.get_default_eval_setting()"
   ]
  },
  {
   "cell_type": "markdown",
   "metadata": {
    "pycharm": {
     "name": "#%% md\n"
    }
   },
   "source": [
    "### 4.3 Prepare data"
   ]
  },
  {
   "cell_type": "code",
   "execution_count": 4,
   "metadata": {
    "pycharm": {
     "name": "#%%\n"
    }
   },
   "outputs": [
    {
     "name": "stdout",
     "output_type": "stream",
     "text": [
      "Fold- 1\n",
      "loading buffered file ...\n",
      "loading buffered file ...\n",
      "loading buffered file ...\n"
     ]
    }
   ],
   "source": [
    "''' load the dataset '''\n",
    "train_data, test_data, vali_data = ltr_evaluator.load_data(eval_dict=eval_dict, data_dict=data_dict, fold_k=1)"
   ]
  },
  {
   "cell_type": "markdown",
   "metadata": {
    "pycharm": {
     "name": "#%% md\n"
    }
   },
   "source": [
    "### 4.3 Configuration of the neural scoring function"
   ]
  },
  {
   "cell_type": "code",
   "execution_count": 5,
   "metadata": {
    "pycharm": {
     "name": "#%%\n"
    }
   },
   "outputs": [],
   "source": [
    "''' using the default setting for constructing a neural scoring function '''\n",
    "ltr_evaluator.set_scoring_function_setting(debug=debug, data_dict=data_dict)\n",
    "sf_para_dict = ltr_evaluator.get_default_scoring_function_setting()"
   ]
  },
  {
   "cell_type": "markdown",
   "metadata": {
    "pycharm": {
     "name": "#%% md\n"
    }
   },
   "source": [
    "### 4.4 An example play - RankNet"
   ]
  },
  {
   "cell_type": "code",
   "execution_count": 6,
   "metadata": {
    "pycharm": {
     "name": "#%%\n"
    }
   },
   "outputs": [],
   "source": [
    "''' the parameter setting for a model '''\n",
    "model_id = 'RankNet' # The specified model with default parameters\n",
    "ltr_evaluator.set_model_setting(debug=debug, model_id=model_id)\n",
    "model_para_dict = ltr_evaluator.get_default_model_setting()\n",
    "\n",
    "''' basic check before loading the ranker '''\n",
    "ltr_evaluator.setup_eval(data_dict=data_dict, eval_dict=eval_dict, sf_para_dict=sf_para_dict, model_para_dict=model_para_dict)\n",
    "\n",
    "''' initialize the ranker '''\n",
    "ranknet   = ltr_evaluator.load_ranker(sf_para_dict=sf_para_dict, model_para_dict=model_para_dict)"
   ]
  },
  {
   "cell_type": "markdown",
   "metadata": {
    "pycharm": {
     "name": "#%% md\n"
    }
   },
   "source": [
    "### 4.4.1 Train RankNet and Plot"
   ]
  },
  {
   "cell_type": "code",
   "execution_count": 7,
   "metadata": {
    "pycharm": {
     "name": "#%%\n"
    }
   },
   "outputs": [
    {
     "data": {
      "text/plain": [
       "Text(0.5, 1.0, 'RankNet')"
      ]
     },
     "execution_count": 7,
     "metadata": {},
     "output_type": "execute_result"
    },
    {
     "data": {
      "image/png": "[encoded data removed]",
      "text/plain": [
       "<Figure size 432x288 with 1 Axes>"
      ]
     },
     "metadata": {
      "needs_background": "light"
     },
     "output_type": "display_data"
    }
   ],
   "source": [
    "ranknet_losses, ranknet_train_ndcgs, ranknet_test_ndcgs = ltr_evaluator.naive_train(ranker=ranknet, eval_dict=eval_dict, train_data=train_data, test_data=test_data)\n",
    "\n",
    "show_var(ranknet_losses, lbl='Training loss') # show the variation of loss\n",
    "plt.legend()\n",
    "plt.title('RankNet')"
   ]
  },
  {
   "cell_type": "code",
   "execution_count": 8,
   "metadata": {
    "pycharm": {
     "name": "#%%\n"
    }
   },
   "outputs": [
    {
     "data": {
      "text/plain": [
       "Text(0.5, 1.0, 'RankNet')"
      ]
     },
     "execution_count": 8,
     "metadata": {},
     "output_type": "execute_result"
    },
    {
     "data": {
      "image/png": "[encoded data removed]",
      "text/plain": [
       "<Figure size 432x288 with 1 Axes>"
      ]
     },
     "metadata": {
      "needs_background": "light"
     },
     "output_type": "display_data"
    }
   ],
   "source": [
    "cutoffs = [1, 3, 5, 10, 20, 50]\n",
    "\n",
    "for i in range(len(cutoffs)):\n",
    "    k = cutoffs[i]\n",
    "    show_var(ranknet_train_ndcgs[:, i], lbl='Train-nDCG@'+str(k))\n",
    "plt.legend()\n",
    "plt.title('RankNet')"
   ]
  },
  {
   "cell_type": "code",
   "execution_count": 9,
   "metadata": {
    "pycharm": {
     "name": "#%%\n"
    }
   },
   "outputs": [
    {
     "data": {
      "text/plain": [
       "Text(0.5, 1.0, 'RankNet')"
      ]
     },
     "execution_count": 9,
     "metadata": {},
     "output_type": "execute_result"
    },
    {
     "data": {
      "image/png": "[encoded data removed]",
      "text/plain": [
       "<Figure size 432x288 with 1 Axes>"
      ]
     },
     "metadata": {
      "needs_background": "light"
     },
     "output_type": "display_data"
    }
   ],
   "source": [
    "for i in range(len(cutoffs)):\n",
    "    k = cutoffs[i]\n",
    "    show_var(ranknet_test_ndcgs[:, i], lbl='Test-nDCG@'+str(k))\n",
    "plt.legend()\n",
    "plt.title('RankNet')"
   ]
  },
  {
   "cell_type": "markdown",
   "metadata": {},
   "source": [
    "### 4.5 An example play - LambdaRank"
   ]
  },
  {
   "cell_type": "code",
   "execution_count": 10,
   "metadata": {
    "pycharm": {
     "name": "#%%\n"
    }
   },
   "outputs": [],
   "source": [
    "''' the parameter setting for a model '''\n",
    "model_id = 'LambdaRank' # The specified model with default parameters\n",
    "ltr_evaluator.set_model_setting(debug=debug, model_id=model_id)\n",
    "model_para_dict = ltr_evaluator.get_default_model_setting()\n",
    "\n",
    "''' basic check before loading the ranker '''\n",
    "ltr_evaluator.setup_eval(data_dict=data_dict, eval_dict=eval_dict, sf_para_dict=sf_para_dict, model_para_dict=model_para_dict)\n",
    "\n",
    "''' initialize the ranker '''\n",
    "lambdarank   = ltr_evaluator.load_ranker(sf_para_dict=sf_para_dict, model_para_dict=model_para_dict)"
   ]
  },
  {
   "cell_type": "markdown",
   "metadata": {},
   "source": [
    "### 4.5.1 Train LambdaRank and Plot"
   ]
  },
  {
   "cell_type": "code",
   "execution_count": 12,
   "metadata": {
    "pycharm": {
     "name": "#%%\n"
    }
   },
   "outputs": [
    {
     "data": {
      "text/plain": [
       "Text(0.5, 1.0, 'LambdaRank')"
      ]
     },
     "execution_count": 12,
     "metadata": {},
     "output_type": "execute_result"
    },
    {
     "data": {
      "image/png": "[encoded data removed]",
      "text/plain": [
       "<Figure size 432x288 with 1 Axes>"
      ]
     },
     "metadata": {
      "needs_background": "light"
     },
     "output_type": "display_data"
    }
   ],
   "source": [
    "lambdarank_losses, lambdarank_train_ndcgs, lambdarank_test_ndcgs = ltr_evaluator.naive_train(ranker=lambdarank, eval_dict=eval_dict, train_data=train_data, test_data=test_data)\n",
    "\n",
    "show_var(lambdarank_losses, lbl='Training loss') # show the variation of loss\n",
    "plt.legend()\n",
    "plt.title('LambdaRank')"
   ]
  },
  {
   "cell_type": "code",
   "execution_count": 13,
   "metadata": {
    "pycharm": {
     "name": "#%%\n"
    }
   },
   "outputs": [
    {
     "data": {
      "text/plain": [
       "Text(0.5, 1.0, 'LambdaRank')"
      ]
     },
     "execution_count": 13,
     "metadata": {},
     "output_type": "execute_result"
    },
    {
     "data": {
      "image/png": "[encoded data removed]",
      "text/plain": [
       "<Figure size 432x288 with 1 Axes>"
      ]
     },
     "metadata": {
      "needs_background": "light"
     },
     "output_type": "display_data"
    }
   ],
   "source": [
    "for i in range(len(cutoffs)):\n",
    "    k = cutoffs[i]\n",
    "    show_var(lambdarank_train_ndcgs[:, i], lbl='Train-nDCG@'+str(k))\n",
    "plt.legend()\n",
    "plt.title('LambdaRank')"
   ]
  },
  {
   "cell_type": "code",
   "execution_count": 14,
   "metadata": {
    "pycharm": {
     "name": "#%%\n"
    }
   },
   "outputs": [
    {
     "data": {
      "text/plain": [
       "Text(0.5, 1.0, 'LambdaRank')"
      ]
     },
     "execution_count": 14,
     "metadata": {},
     "output_type": "execute_result"
    },
    {
     "data": {
      "image/png": "[encoded data removed]",
      "text/plain": [
       "<Figure size 432x288 with 1 Axes>"
      ]
     },
     "metadata": {
      "needs_background": "light"
     },
     "output_type": "display_data"
    }
   ],
   "source": [
    "for i in range(len(cutoffs)):\n",
    "    k = cutoffs[i]\n",
    "    show_var(lambdarank_test_ndcgs[:, i], lbl='Test-nDCG@'+str(k))\n",
    "plt.legend()\n",
    "plt.title('LambdaRank')\n"
   ]
  }
 ],
 "metadata": {
  "kernelspec": {
   "display_name": "PyCharm (ptl2r)",
   "language": "python",
   "name": "pycharm-443bb574"
  },
  "language_info": {
   "codemirror_mode": {
    "name": "ipython",
    "version": 3
   },
   "file_extension": ".py",
   "mimetype": "text/x-python",
   "name": "python",
   "nbconvert_exporter": "python",
   "pygments_lexer": "ipython3",
   "version": "3.7.7"
  }
 },
 "nbformat": 4,
 "nbformat_minor": 1
}